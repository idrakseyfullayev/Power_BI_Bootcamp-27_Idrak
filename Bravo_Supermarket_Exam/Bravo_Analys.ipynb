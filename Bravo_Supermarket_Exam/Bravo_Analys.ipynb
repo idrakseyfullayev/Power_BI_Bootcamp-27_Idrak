{
 "cells": [
  {
   "cell_type": "markdown",
   "id": "243c63c2",
   "metadata": {},
   "source": [
    "## Bravo_Analys"
   ]
  },
  {
   "cell_type": "markdown",
   "id": "de6c661e",
   "metadata": {},
   "source": [
    "### Turnover Analysis"
   ]
  },
  {
   "cell_type": "code",
   "execution_count": 1,
   "id": "4b6bb795",
   "metadata": {},
   "outputs": [
    {
     "data": {
      "text/html": [
       "<div>\n",
       "<style scoped>\n",
       "    .dataframe tbody tr th:only-of-type {\n",
       "        vertical-align: middle;\n",
       "    }\n",
       "\n",
       "    .dataframe tbody tr th {\n",
       "        vertical-align: top;\n",
       "    }\n",
       "\n",
       "    .dataframe thead th {\n",
       "        text-align: right;\n",
       "    }\n",
       "</style>\n",
       "<table border=\"1\" class=\"dataframe\">\n",
       "  <thead>\n",
       "    <tr style=\"text-align: right;\">\n",
       "      <th></th>\n",
       "      <th>EmployeeID</th>\n",
       "      <th>FullName</th>\n",
       "      <th>Gender</th>\n",
       "      <th>Age</th>\n",
       "      <th>BirthDate</th>\n",
       "      <th>Region</th>\n",
       "      <th>Store</th>\n",
       "      <th>StoreType</th>\n",
       "      <th>StoreSize</th>\n",
       "      <th>Department</th>\n",
       "      <th>...</th>\n",
       "      <th>PerformanceRating</th>\n",
       "      <th>TrainingHours</th>\n",
       "      <th>AbsenceDays</th>\n",
       "      <th>LeaveReason</th>\n",
       "      <th>TerminationType</th>\n",
       "      <th>SourceOfHire</th>\n",
       "      <th>Unnamed: 32</th>\n",
       "      <th>Unnamed: 33</th>\n",
       "      <th>Unnamed: 34</th>\n",
       "      <th>Unnamed: 35</th>\n",
       "    </tr>\n",
       "  </thead>\n",
       "  <tbody>\n",
       "    <tr>\n",
       "      <th>0</th>\n",
       "      <td>1001</td>\n",
       "      <td>Emp_1</td>\n",
       "      <td>Female</td>\n",
       "      <td>44</td>\n",
       "      <td>1980-12-22</td>\n",
       "      <td>Shaki</td>\n",
       "      <td>Store_10</td>\n",
       "      <td>Supermarket</td>\n",
       "      <td>Small</td>\n",
       "      <td>Finance</td>\n",
       "      <td>...</td>\n",
       "      <td>Average</td>\n",
       "      <td>7</td>\n",
       "      <td>3</td>\n",
       "      <td>Still Employed</td>\n",
       "      <td>NaN</td>\n",
       "      <td>Website</td>\n",
       "      <td>NaN</td>\n",
       "      <td>2021-11-02 00:00:00</td>\n",
       "      <td>NaT</td>\n",
       "      <td>NaN</td>\n",
       "    </tr>\n",
       "    <tr>\n",
       "      <th>1</th>\n",
       "      <td>1002</td>\n",
       "      <td>Emp_2</td>\n",
       "      <td>Male</td>\n",
       "      <td>54</td>\n",
       "      <td>1971-06-05</td>\n",
       "      <td>Sumqayit</td>\n",
       "      <td>Store_01</td>\n",
       "      <td>Express</td>\n",
       "      <td>Small</td>\n",
       "      <td>Ops</td>\n",
       "      <td>...</td>\n",
       "      <td>Average</td>\n",
       "      <td>9</td>\n",
       "      <td>5</td>\n",
       "      <td>Still Employed</td>\n",
       "      <td>NaN</td>\n",
       "      <td>Website</td>\n",
       "      <td>NaN</td>\n",
       "      <td>2021-12-31 00:00:00</td>\n",
       "      <td>NaT</td>\n",
       "      <td>NaN</td>\n",
       "    </tr>\n",
       "    <tr>\n",
       "      <th>2</th>\n",
       "      <td>1003</td>\n",
       "      <td>Emp_3</td>\n",
       "      <td>Male</td>\n",
       "      <td>37</td>\n",
       "      <td>1988-01-22</td>\n",
       "      <td>Lankaran</td>\n",
       "      <td>Store_04</td>\n",
       "      <td>Supermarket</td>\n",
       "      <td>Medium</td>\n",
       "      <td>IT</td>\n",
       "      <td>...</td>\n",
       "      <td>Good</td>\n",
       "      <td>8</td>\n",
       "      <td>4</td>\n",
       "      <td>Still Employed</td>\n",
       "      <td>NaN</td>\n",
       "      <td>Job Board</td>\n",
       "      <td>NaN</td>\n",
       "      <td>-59</td>\n",
       "      <td>NaT</td>\n",
       "      <td>NaN</td>\n",
       "    </tr>\n",
       "    <tr>\n",
       "      <th>3</th>\n",
       "      <td>1004</td>\n",
       "      <td>Emp_4</td>\n",
       "      <td>Female</td>\n",
       "      <td>23</td>\n",
       "      <td>2002-08-14</td>\n",
       "      <td>Baku</td>\n",
       "      <td>Store_10</td>\n",
       "      <td>Supermarket</td>\n",
       "      <td>Small</td>\n",
       "      <td>Finance</td>\n",
       "      <td>...</td>\n",
       "      <td>Average</td>\n",
       "      <td>9</td>\n",
       "      <td>3</td>\n",
       "      <td>Still Employed</td>\n",
       "      <td>NaN</td>\n",
       "      <td>LinkedIn</td>\n",
       "      <td>NaN</td>\n",
       "      <td>NaN</td>\n",
       "      <td>NaT</td>\n",
       "      <td>NaN</td>\n",
       "    </tr>\n",
       "    <tr>\n",
       "      <th>4</th>\n",
       "      <td>1005</td>\n",
       "      <td>Emp_5</td>\n",
       "      <td>Female</td>\n",
       "      <td>53</td>\n",
       "      <td>1972-04-13</td>\n",
       "      <td>Baku</td>\n",
       "      <td>Store_08</td>\n",
       "      <td>Supermarket</td>\n",
       "      <td>Large</td>\n",
       "      <td>IT</td>\n",
       "      <td>...</td>\n",
       "      <td>Average</td>\n",
       "      <td>4</td>\n",
       "      <td>2</td>\n",
       "      <td>Still Employed</td>\n",
       "      <td>NaN</td>\n",
       "      <td>LinkedIn</td>\n",
       "      <td>NaN</td>\n",
       "      <td>2021-12-31 00:00:00</td>\n",
       "      <td>NaT</td>\n",
       "      <td>NaN</td>\n",
       "    </tr>\n",
       "    <tr>\n",
       "      <th>...</th>\n",
       "      <td>...</td>\n",
       "      <td>...</td>\n",
       "      <td>...</td>\n",
       "      <td>...</td>\n",
       "      <td>...</td>\n",
       "      <td>...</td>\n",
       "      <td>...</td>\n",
       "      <td>...</td>\n",
       "      <td>...</td>\n",
       "      <td>...</td>\n",
       "      <td>...</td>\n",
       "      <td>...</td>\n",
       "      <td>...</td>\n",
       "      <td>...</td>\n",
       "      <td>...</td>\n",
       "      <td>...</td>\n",
       "      <td>...</td>\n",
       "      <td>...</td>\n",
       "      <td>...</td>\n",
       "      <td>...</td>\n",
       "      <td>...</td>\n",
       "    </tr>\n",
       "    <tr>\n",
       "      <th>995</th>\n",
       "      <td>1096</td>\n",
       "      <td>Emp_996</td>\n",
       "      <td>Female</td>\n",
       "      <td>34</td>\n",
       "      <td>1990-11-13</td>\n",
       "      <td>Baku</td>\n",
       "      <td>Store_05</td>\n",
       "      <td>Supermarket</td>\n",
       "      <td>Small</td>\n",
       "      <td>IT</td>\n",
       "      <td>...</td>\n",
       "      <td>Average</td>\n",
       "      <td>6</td>\n",
       "      <td>5</td>\n",
       "      <td>Still Employed</td>\n",
       "      <td>NaN</td>\n",
       "      <td>Job Board</td>\n",
       "      <td>NaN</td>\n",
       "      <td>NaN</td>\n",
       "      <td>NaT</td>\n",
       "      <td>NaN</td>\n",
       "    </tr>\n",
       "    <tr>\n",
       "      <th>996</th>\n",
       "      <td>1097</td>\n",
       "      <td>Emp_997</td>\n",
       "      <td>Male</td>\n",
       "      <td>38</td>\n",
       "      <td>1987-04-05</td>\n",
       "      <td>Baku</td>\n",
       "      <td>Store_04</td>\n",
       "      <td>Supermarket</td>\n",
       "      <td>Medium</td>\n",
       "      <td>Ops</td>\n",
       "      <td>...</td>\n",
       "      <td>Average</td>\n",
       "      <td>5</td>\n",
       "      <td>3</td>\n",
       "      <td>Still Employed</td>\n",
       "      <td>NaN</td>\n",
       "      <td>Website</td>\n",
       "      <td>NaN</td>\n",
       "      <td>NaN</td>\n",
       "      <td>NaT</td>\n",
       "      <td>NaN</td>\n",
       "    </tr>\n",
       "    <tr>\n",
       "      <th>997</th>\n",
       "      <td>1098</td>\n",
       "      <td>Emp_998</td>\n",
       "      <td>Male</td>\n",
       "      <td>60</td>\n",
       "      <td>1964-11-30</td>\n",
       "      <td>Baku</td>\n",
       "      <td>Store_04</td>\n",
       "      <td>Supermarket</td>\n",
       "      <td>Medium</td>\n",
       "      <td>Logistics</td>\n",
       "      <td>...</td>\n",
       "      <td>Good</td>\n",
       "      <td>11</td>\n",
       "      <td>4</td>\n",
       "      <td>Resigned</td>\n",
       "      <td>Voluntary</td>\n",
       "      <td>Job Board</td>\n",
       "      <td>NaN</td>\n",
       "      <td>NaN</td>\n",
       "      <td>NaT</td>\n",
       "      <td>NaN</td>\n",
       "    </tr>\n",
       "    <tr>\n",
       "      <th>998</th>\n",
       "      <td>1099</td>\n",
       "      <td>Emp_999</td>\n",
       "      <td>Male</td>\n",
       "      <td>37</td>\n",
       "      <td>1987-10-26</td>\n",
       "      <td>Ganja</td>\n",
       "      <td>Store_10</td>\n",
       "      <td>Supermarket</td>\n",
       "      <td>Small</td>\n",
       "      <td>Finance</td>\n",
       "      <td>...</td>\n",
       "      <td>Good</td>\n",
       "      <td>8</td>\n",
       "      <td>1</td>\n",
       "      <td>Still Employed</td>\n",
       "      <td>NaN</td>\n",
       "      <td>Referral</td>\n",
       "      <td>NaN</td>\n",
       "      <td>NaN</td>\n",
       "      <td>NaT</td>\n",
       "      <td>NaN</td>\n",
       "    </tr>\n",
       "    <tr>\n",
       "      <th>999</th>\n",
       "      <td>1100</td>\n",
       "      <td>Emp_1000</td>\n",
       "      <td>Male</td>\n",
       "      <td>24</td>\n",
       "      <td>2001-06-01</td>\n",
       "      <td>Baku</td>\n",
       "      <td>Store_08</td>\n",
       "      <td>Supermarket</td>\n",
       "      <td>Large</td>\n",
       "      <td>Finance</td>\n",
       "      <td>...</td>\n",
       "      <td>Good</td>\n",
       "      <td>5</td>\n",
       "      <td>2</td>\n",
       "      <td>Still Employed</td>\n",
       "      <td>NaN</td>\n",
       "      <td>LinkedIn</td>\n",
       "      <td>NaN</td>\n",
       "      <td>NaN</td>\n",
       "      <td>NaT</td>\n",
       "      <td>NaN</td>\n",
       "    </tr>\n",
       "  </tbody>\n",
       "</table>\n",
       "<p>1000 rows × 36 columns</p>\n",
       "</div>"
      ],
      "text/plain": [
       "     EmployeeID  FullName  Gender  Age  BirthDate    Region     Store  \\\n",
       "0          1001     Emp_1  Female   44 1980-12-22     Shaki  Store_10   \n",
       "1          1002     Emp_2    Male   54 1971-06-05  Sumqayit  Store_01   \n",
       "2          1003     Emp_3    Male   37 1988-01-22  Lankaran  Store_04   \n",
       "3          1004     Emp_4  Female   23 2002-08-14      Baku  Store_10   \n",
       "4          1005     Emp_5  Female   53 1972-04-13      Baku  Store_08   \n",
       "..          ...       ...     ...  ...        ...       ...       ...   \n",
       "995        1096   Emp_996  Female   34 1990-11-13      Baku  Store_05   \n",
       "996        1097   Emp_997    Male   38 1987-04-05      Baku  Store_04   \n",
       "997        1098   Emp_998    Male   60 1964-11-30      Baku  Store_04   \n",
       "998        1099   Emp_999    Male   37 1987-10-26     Ganja  Store_10   \n",
       "999        1100  Emp_1000    Male   24 2001-06-01      Baku  Store_08   \n",
       "\n",
       "       StoreType StoreSize Department  ... PerformanceRating TrainingHours  \\\n",
       "0    Supermarket     Small    Finance  ...           Average             7   \n",
       "1        Express     Small        Ops  ...           Average             9   \n",
       "2    Supermarket    Medium         IT  ...              Good             8   \n",
       "3    Supermarket     Small    Finance  ...           Average             9   \n",
       "4    Supermarket     Large         IT  ...           Average             4   \n",
       "..           ...       ...        ...  ...               ...           ...   \n",
       "995  Supermarket     Small         IT  ...           Average             6   \n",
       "996  Supermarket    Medium        Ops  ...           Average             5   \n",
       "997  Supermarket    Medium  Logistics  ...              Good            11   \n",
       "998  Supermarket     Small    Finance  ...              Good             8   \n",
       "999  Supermarket     Large    Finance  ...              Good             5   \n",
       "\n",
       "    AbsenceDays     LeaveReason  TerminationType SourceOfHire Unnamed: 32  \\\n",
       "0             3  Still Employed              NaN      Website         NaN   \n",
       "1             5  Still Employed              NaN      Website         NaN   \n",
       "2             4  Still Employed              NaN    Job Board         NaN   \n",
       "3             3  Still Employed              NaN     LinkedIn         NaN   \n",
       "4             2  Still Employed              NaN     LinkedIn         NaN   \n",
       "..          ...             ...              ...          ...         ...   \n",
       "995           5  Still Employed              NaN    Job Board         NaN   \n",
       "996           3  Still Employed              NaN      Website         NaN   \n",
       "997           4        Resigned        Voluntary    Job Board         NaN   \n",
       "998           1  Still Employed              NaN     Referral         NaN   \n",
       "999           2  Still Employed              NaN     LinkedIn         NaN   \n",
       "\n",
       "             Unnamed: 33  Unnamed: 34 Unnamed: 35  \n",
       "0    2021-11-02 00:00:00          NaT         NaN  \n",
       "1    2021-12-31 00:00:00          NaT         NaN  \n",
       "2                    -59          NaT         NaN  \n",
       "3                    NaN          NaT         NaN  \n",
       "4    2021-12-31 00:00:00          NaT         NaN  \n",
       "..                   ...          ...         ...  \n",
       "995                  NaN          NaT         NaN  \n",
       "996                  NaN          NaT         NaN  \n",
       "997                  NaN          NaT         NaN  \n",
       "998                  NaN          NaT         NaN  \n",
       "999                  NaN          NaT         NaN  \n",
       "\n",
       "[1000 rows x 36 columns]"
      ]
     },
     "execution_count": 1,
     "metadata": {},
     "output_type": "execute_result"
    }
   ],
   "source": [
    "import pandas as pd\n",
    "df = pd.read_excel(r\"C:\\Users\\dell\\Desktop\\Bravo Analys\\bravo_hr_dataset_1000_Python.xlsx\", sheet_name='Data')\n",
    "df"
   ]
  },
  {
   "cell_type": "code",
   "execution_count": 2,
   "id": "73c3b9da",
   "metadata": {},
   "outputs": [],
   "source": [
    "df.drop(columns=df.columns[df.columns.str.startswith('Unnamed')], inplace=True)"
   ]
  },
  {
   "cell_type": "code",
   "execution_count": 3,
   "id": "3e7fc65b",
   "metadata": {
    "scrolled": false
   },
   "outputs": [
    {
     "data": {
      "text/html": [
       "<div>\n",
       "<style scoped>\n",
       "    .dataframe tbody tr th:only-of-type {\n",
       "        vertical-align: middle;\n",
       "    }\n",
       "\n",
       "    .dataframe tbody tr th {\n",
       "        vertical-align: top;\n",
       "    }\n",
       "\n",
       "    .dataframe thead th {\n",
       "        text-align: right;\n",
       "    }\n",
       "</style>\n",
       "<table border=\"1\" class=\"dataframe\">\n",
       "  <thead>\n",
       "    <tr style=\"text-align: right;\">\n",
       "      <th></th>\n",
       "      <th>EmployeeID</th>\n",
       "      <th>FullName</th>\n",
       "      <th>Gender</th>\n",
       "      <th>Age</th>\n",
       "      <th>BirthDate</th>\n",
       "      <th>Region</th>\n",
       "      <th>Store</th>\n",
       "      <th>StoreType</th>\n",
       "      <th>StoreSize</th>\n",
       "      <th>Department</th>\n",
       "      <th>...</th>\n",
       "      <th>Tenure_before_exit</th>\n",
       "      <th>TenureDays</th>\n",
       "      <th>TenureYears</th>\n",
       "      <th>PerformanceScore</th>\n",
       "      <th>PerformanceRating</th>\n",
       "      <th>TrainingHours</th>\n",
       "      <th>AbsenceDays</th>\n",
       "      <th>LeaveReason</th>\n",
       "      <th>TerminationType</th>\n",
       "      <th>SourceOfHire</th>\n",
       "    </tr>\n",
       "  </thead>\n",
       "  <tbody>\n",
       "    <tr>\n",
       "      <th>0</th>\n",
       "      <td>1001</td>\n",
       "      <td>Emp_1</td>\n",
       "      <td>Female</td>\n",
       "      <td>44</td>\n",
       "      <td>1980-12-22</td>\n",
       "      <td>Shaki</td>\n",
       "      <td>Store_10</td>\n",
       "      <td>Supermarket</td>\n",
       "      <td>Small</td>\n",
       "      <td>Finance</td>\n",
       "      <td>...</td>\n",
       "      <td>43</td>\n",
       "      <td>1316.0</td>\n",
       "      <td>3.61</td>\n",
       "      <td>3.3</td>\n",
       "      <td>Average</td>\n",
       "      <td>7</td>\n",
       "      <td>3</td>\n",
       "      <td>Still Employed</td>\n",
       "      <td>NaN</td>\n",
       "      <td>Website</td>\n",
       "    </tr>\n",
       "    <tr>\n",
       "      <th>1</th>\n",
       "      <td>1002</td>\n",
       "      <td>Emp_2</td>\n",
       "      <td>Male</td>\n",
       "      <td>54</td>\n",
       "      <td>1971-06-05</td>\n",
       "      <td>Sumqayit</td>\n",
       "      <td>Store_01</td>\n",
       "      <td>Express</td>\n",
       "      <td>Small</td>\n",
       "      <td>Ops</td>\n",
       "      <td>...</td>\n",
       "      <td>35</td>\n",
       "      <td>1064.0</td>\n",
       "      <td>2.92</td>\n",
       "      <td>2.8</td>\n",
       "      <td>Average</td>\n",
       "      <td>9</td>\n",
       "      <td>5</td>\n",
       "      <td>Still Employed</td>\n",
       "      <td>NaN</td>\n",
       "      <td>Website</td>\n",
       "    </tr>\n",
       "    <tr>\n",
       "      <th>2</th>\n",
       "      <td>1003</td>\n",
       "      <td>Emp_3</td>\n",
       "      <td>Male</td>\n",
       "      <td>37</td>\n",
       "      <td>1988-01-22</td>\n",
       "      <td>Lankaran</td>\n",
       "      <td>Store_04</td>\n",
       "      <td>Supermarket</td>\n",
       "      <td>Medium</td>\n",
       "      <td>IT</td>\n",
       "      <td>...</td>\n",
       "      <td>1507</td>\n",
       "      <td>NaN</td>\n",
       "      <td>NaN</td>\n",
       "      <td>4.3</td>\n",
       "      <td>Good</td>\n",
       "      <td>8</td>\n",
       "      <td>4</td>\n",
       "      <td>Still Employed</td>\n",
       "      <td>NaN</td>\n",
       "      <td>Job Board</td>\n",
       "    </tr>\n",
       "    <tr>\n",
       "      <th>3</th>\n",
       "      <td>1004</td>\n",
       "      <td>Emp_4</td>\n",
       "      <td>Female</td>\n",
       "      <td>23</td>\n",
       "      <td>2002-08-14</td>\n",
       "      <td>Baku</td>\n",
       "      <td>Store_10</td>\n",
       "      <td>Supermarket</td>\n",
       "      <td>Small</td>\n",
       "      <td>Finance</td>\n",
       "      <td>...</td>\n",
       "      <td>52</td>\n",
       "      <td>1594.0</td>\n",
       "      <td>4.37</td>\n",
       "      <td>3.2</td>\n",
       "      <td>Average</td>\n",
       "      <td>9</td>\n",
       "      <td>3</td>\n",
       "      <td>Still Employed</td>\n",
       "      <td>NaN</td>\n",
       "      <td>LinkedIn</td>\n",
       "    </tr>\n",
       "    <tr>\n",
       "      <th>4</th>\n",
       "      <td>1005</td>\n",
       "      <td>Emp_5</td>\n",
       "      <td>Female</td>\n",
       "      <td>53</td>\n",
       "      <td>1972-04-13</td>\n",
       "      <td>Baku</td>\n",
       "      <td>Store_08</td>\n",
       "      <td>Supermarket</td>\n",
       "      <td>Large</td>\n",
       "      <td>IT</td>\n",
       "      <td>...</td>\n",
       "      <td>64</td>\n",
       "      <td>1948.0</td>\n",
       "      <td>5.34</td>\n",
       "      <td>2.7</td>\n",
       "      <td>Average</td>\n",
       "      <td>4</td>\n",
       "      <td>2</td>\n",
       "      <td>Still Employed</td>\n",
       "      <td>NaN</td>\n",
       "      <td>LinkedIn</td>\n",
       "    </tr>\n",
       "    <tr>\n",
       "      <th>...</th>\n",
       "      <td>...</td>\n",
       "      <td>...</td>\n",
       "      <td>...</td>\n",
       "      <td>...</td>\n",
       "      <td>...</td>\n",
       "      <td>...</td>\n",
       "      <td>...</td>\n",
       "      <td>...</td>\n",
       "      <td>...</td>\n",
       "      <td>...</td>\n",
       "      <td>...</td>\n",
       "      <td>...</td>\n",
       "      <td>...</td>\n",
       "      <td>...</td>\n",
       "      <td>...</td>\n",
       "      <td>...</td>\n",
       "      <td>...</td>\n",
       "      <td>...</td>\n",
       "      <td>...</td>\n",
       "      <td>...</td>\n",
       "      <td>...</td>\n",
       "    </tr>\n",
       "    <tr>\n",
       "      <th>995</th>\n",
       "      <td>1096</td>\n",
       "      <td>Emp_996</td>\n",
       "      <td>Female</td>\n",
       "      <td>34</td>\n",
       "      <td>1990-11-13</td>\n",
       "      <td>Baku</td>\n",
       "      <td>Store_05</td>\n",
       "      <td>Supermarket</td>\n",
       "      <td>Small</td>\n",
       "      <td>IT</td>\n",
       "      <td>...</td>\n",
       "      <td>7</td>\n",
       "      <td>211.0</td>\n",
       "      <td>0.58</td>\n",
       "      <td>3.4</td>\n",
       "      <td>Average</td>\n",
       "      <td>6</td>\n",
       "      <td>5</td>\n",
       "      <td>Still Employed</td>\n",
       "      <td>NaN</td>\n",
       "      <td>Job Board</td>\n",
       "    </tr>\n",
       "    <tr>\n",
       "      <th>996</th>\n",
       "      <td>1097</td>\n",
       "      <td>Emp_997</td>\n",
       "      <td>Male</td>\n",
       "      <td>38</td>\n",
       "      <td>1987-04-05</td>\n",
       "      <td>Baku</td>\n",
       "      <td>Store_04</td>\n",
       "      <td>Supermarket</td>\n",
       "      <td>Medium</td>\n",
       "      <td>Ops</td>\n",
       "      <td>...</td>\n",
       "      <td>35</td>\n",
       "      <td>1077.0</td>\n",
       "      <td>2.95</td>\n",
       "      <td>2.5</td>\n",
       "      <td>Average</td>\n",
       "      <td>5</td>\n",
       "      <td>3</td>\n",
       "      <td>Still Employed</td>\n",
       "      <td>NaN</td>\n",
       "      <td>Website</td>\n",
       "    </tr>\n",
       "    <tr>\n",
       "      <th>997</th>\n",
       "      <td>1098</td>\n",
       "      <td>Emp_998</td>\n",
       "      <td>Male</td>\n",
       "      <td>60</td>\n",
       "      <td>1964-11-30</td>\n",
       "      <td>Baku</td>\n",
       "      <td>Store_04</td>\n",
       "      <td>Supermarket</td>\n",
       "      <td>Medium</td>\n",
       "      <td>Logistics</td>\n",
       "      <td>...</td>\n",
       "      <td>25</td>\n",
       "      <td>782.0</td>\n",
       "      <td>2.14</td>\n",
       "      <td>3.5</td>\n",
       "      <td>Good</td>\n",
       "      <td>11</td>\n",
       "      <td>4</td>\n",
       "      <td>Resigned</td>\n",
       "      <td>Voluntary</td>\n",
       "      <td>Job Board</td>\n",
       "    </tr>\n",
       "    <tr>\n",
       "      <th>998</th>\n",
       "      <td>1099</td>\n",
       "      <td>Emp_999</td>\n",
       "      <td>Male</td>\n",
       "      <td>37</td>\n",
       "      <td>1987-10-26</td>\n",
       "      <td>Ganja</td>\n",
       "      <td>Store_10</td>\n",
       "      <td>Supermarket</td>\n",
       "      <td>Small</td>\n",
       "      <td>Finance</td>\n",
       "      <td>...</td>\n",
       "      <td>42</td>\n",
       "      <td>1280.0</td>\n",
       "      <td>3.51</td>\n",
       "      <td>3.8</td>\n",
       "      <td>Good</td>\n",
       "      <td>8</td>\n",
       "      <td>1</td>\n",
       "      <td>Still Employed</td>\n",
       "      <td>NaN</td>\n",
       "      <td>Referral</td>\n",
       "    </tr>\n",
       "    <tr>\n",
       "      <th>999</th>\n",
       "      <td>1100</td>\n",
       "      <td>Emp_1000</td>\n",
       "      <td>Male</td>\n",
       "      <td>24</td>\n",
       "      <td>2001-06-01</td>\n",
       "      <td>Baku</td>\n",
       "      <td>Store_08</td>\n",
       "      <td>Supermarket</td>\n",
       "      <td>Large</td>\n",
       "      <td>Finance</td>\n",
       "      <td>...</td>\n",
       "      <td>16</td>\n",
       "      <td>488.0</td>\n",
       "      <td>1.34</td>\n",
       "      <td>4.0</td>\n",
       "      <td>Good</td>\n",
       "      <td>5</td>\n",
       "      <td>2</td>\n",
       "      <td>Still Employed</td>\n",
       "      <td>NaN</td>\n",
       "      <td>LinkedIn</td>\n",
       "    </tr>\n",
       "  </tbody>\n",
       "</table>\n",
       "<p>1000 rows × 32 columns</p>\n",
       "</div>"
      ],
      "text/plain": [
       "     EmployeeID  FullName  Gender  Age  BirthDate    Region     Store  \\\n",
       "0          1001     Emp_1  Female   44 1980-12-22     Shaki  Store_10   \n",
       "1          1002     Emp_2    Male   54 1971-06-05  Sumqayit  Store_01   \n",
       "2          1003     Emp_3    Male   37 1988-01-22  Lankaran  Store_04   \n",
       "3          1004     Emp_4  Female   23 2002-08-14      Baku  Store_10   \n",
       "4          1005     Emp_5  Female   53 1972-04-13      Baku  Store_08   \n",
       "..          ...       ...     ...  ...        ...       ...       ...   \n",
       "995        1096   Emp_996  Female   34 1990-11-13      Baku  Store_05   \n",
       "996        1097   Emp_997    Male   38 1987-04-05      Baku  Store_04   \n",
       "997        1098   Emp_998    Male   60 1964-11-30      Baku  Store_04   \n",
       "998        1099   Emp_999    Male   37 1987-10-26     Ganja  Store_10   \n",
       "999        1100  Emp_1000    Male   24 2001-06-01      Baku  Store_08   \n",
       "\n",
       "       StoreType StoreSize Department  ... Tenure_before_exit TenureDays  \\\n",
       "0    Supermarket     Small    Finance  ...                 43     1316.0   \n",
       "1        Express     Small        Ops  ...                 35     1064.0   \n",
       "2    Supermarket    Medium         IT  ...               1507        NaN   \n",
       "3    Supermarket     Small    Finance  ...                 52     1594.0   \n",
       "4    Supermarket     Large         IT  ...                 64     1948.0   \n",
       "..           ...       ...        ...  ...                ...        ...   \n",
       "995  Supermarket     Small         IT  ...                  7      211.0   \n",
       "996  Supermarket    Medium        Ops  ...                 35     1077.0   \n",
       "997  Supermarket    Medium  Logistics  ...                 25      782.0   \n",
       "998  Supermarket     Small    Finance  ...                 42     1280.0   \n",
       "999  Supermarket     Large    Finance  ...                 16      488.0   \n",
       "\n",
       "    TenureYears PerformanceScore  PerformanceRating TrainingHours AbsenceDays  \\\n",
       "0          3.61              3.3            Average             7           3   \n",
       "1          2.92              2.8            Average             9           5   \n",
       "2           NaN              4.3               Good             8           4   \n",
       "3          4.37              3.2            Average             9           3   \n",
       "4          5.34              2.7            Average             4           2   \n",
       "..          ...              ...                ...           ...         ...   \n",
       "995        0.58              3.4            Average             6           5   \n",
       "996        2.95              2.5            Average             5           3   \n",
       "997        2.14              3.5               Good            11           4   \n",
       "998        3.51              3.8               Good             8           1   \n",
       "999        1.34              4.0               Good             5           2   \n",
       "\n",
       "        LeaveReason  TerminationType SourceOfHire  \n",
       "0    Still Employed              NaN      Website  \n",
       "1    Still Employed              NaN      Website  \n",
       "2    Still Employed              NaN    Job Board  \n",
       "3    Still Employed              NaN     LinkedIn  \n",
       "4    Still Employed              NaN     LinkedIn  \n",
       "..              ...              ...          ...  \n",
       "995  Still Employed              NaN    Job Board  \n",
       "996  Still Employed              NaN      Website  \n",
       "997        Resigned        Voluntary    Job Board  \n",
       "998  Still Employed              NaN     Referral  \n",
       "999  Still Employed              NaN     LinkedIn  \n",
       "\n",
       "[1000 rows x 32 columns]"
      ]
     },
     "execution_count": 3,
     "metadata": {},
     "output_type": "execute_result"
    }
   ],
   "source": [
    "df"
   ]
  },
  {
   "cell_type": "markdown",
   "id": "fcae5314",
   "metadata": {},
   "source": [
    "### Terminated Rate"
   ]
  },
  {
   "cell_type": "code",
   "execution_count": 4,
   "id": "066b70f3",
   "metadata": {},
   "outputs": [
    {
     "data": {
      "text/html": [
       "<div>\n",
       "<style scoped>\n",
       "    .dataframe tbody tr th:only-of-type {\n",
       "        vertical-align: middle;\n",
       "    }\n",
       "\n",
       "    .dataframe tbody tr th {\n",
       "        vertical-align: top;\n",
       "    }\n",
       "\n",
       "    .dataframe thead th {\n",
       "        text-align: right;\n",
       "    }\n",
       "</style>\n",
       "<table border=\"1\" class=\"dataframe\">\n",
       "  <thead>\n",
       "    <tr style=\"text-align: right;\">\n",
       "      <th></th>\n",
       "      <th>Store</th>\n",
       "      <th>terminated_sum</th>\n",
       "      <th>employees_count</th>\n",
       "      <th>termination_rate_%</th>\n",
       "    </tr>\n",
       "  </thead>\n",
       "  <tbody>\n",
       "    <tr>\n",
       "      <th>0</th>\n",
       "      <td>Store_01</td>\n",
       "      <td>30</td>\n",
       "      <td>120</td>\n",
       "      <td>25.000000</td>\n",
       "    </tr>\n",
       "    <tr>\n",
       "      <th>1</th>\n",
       "      <td>Store_02</td>\n",
       "      <td>20</td>\n",
       "      <td>70</td>\n",
       "      <td>28.571429</td>\n",
       "    </tr>\n",
       "    <tr>\n",
       "      <th>2</th>\n",
       "      <td>Store_03</td>\n",
       "      <td>40</td>\n",
       "      <td>80</td>\n",
       "      <td>50.000000</td>\n",
       "    </tr>\n",
       "    <tr>\n",
       "      <th>3</th>\n",
       "      <td>Store_04</td>\n",
       "      <td>30</td>\n",
       "      <td>140</td>\n",
       "      <td>21.428571</td>\n",
       "    </tr>\n",
       "    <tr>\n",
       "      <th>4</th>\n",
       "      <td>Store_05</td>\n",
       "      <td>10</td>\n",
       "      <td>80</td>\n",
       "      <td>12.500000</td>\n",
       "    </tr>\n",
       "    <tr>\n",
       "      <th>5</th>\n",
       "      <td>Store_06</td>\n",
       "      <td>40</td>\n",
       "      <td>80</td>\n",
       "      <td>50.000000</td>\n",
       "    </tr>\n",
       "    <tr>\n",
       "      <th>6</th>\n",
       "      <td>Store_07</td>\n",
       "      <td>20</td>\n",
       "      <td>50</td>\n",
       "      <td>40.000000</td>\n",
       "    </tr>\n",
       "    <tr>\n",
       "      <th>7</th>\n",
       "      <td>Store_08</td>\n",
       "      <td>30</td>\n",
       "      <td>150</td>\n",
       "      <td>20.000000</td>\n",
       "    </tr>\n",
       "    <tr>\n",
       "      <th>8</th>\n",
       "      <td>Store_09</td>\n",
       "      <td>40</td>\n",
       "      <td>110</td>\n",
       "      <td>36.363636</td>\n",
       "    </tr>\n",
       "    <tr>\n",
       "      <th>9</th>\n",
       "      <td>Store_10</td>\n",
       "      <td>0</td>\n",
       "      <td>120</td>\n",
       "      <td>0.000000</td>\n",
       "    </tr>\n",
       "  </tbody>\n",
       "</table>\n",
       "</div>"
      ],
      "text/plain": [
       "      Store  terminated_sum  employees_count  termination_rate_%\n",
       "0  Store_01              30              120           25.000000\n",
       "1  Store_02              20               70           28.571429\n",
       "2  Store_03              40               80           50.000000\n",
       "3  Store_04              30              140           21.428571\n",
       "4  Store_05              10               80           12.500000\n",
       "5  Store_06              40               80           50.000000\n",
       "6  Store_07              20               50           40.000000\n",
       "7  Store_08              30              150           20.000000\n",
       "8  Store_09              40              110           36.363636\n",
       "9  Store_10               0              120            0.000000"
      ]
     },
     "execution_count": 4,
     "metadata": {},
     "output_type": "execute_result"
    }
   ],
   "source": [
    "df_group = df.groupby('Store').agg(\n",
    "    terminated_sum=('Is Terminated', 'sum'),\n",
    "    employees_count=('EmployeeID', 'count')\n",
    ").reset_index()\n",
    "\n",
    "# df.groupby('Store').agg(\n",
    "#     {'Is Terminated': 'sum',\n",
    "#     'EmployeeID': 'count'})\n",
    "\n",
    "\n",
    "df_group['termination_rate_%'] = (df_group['terminated_sum'] / df_group['employees_count']) * 100\n",
    "df_group"
   ]
  },
  {
   "cell_type": "markdown",
   "id": "f76065d1",
   "metadata": {},
   "source": [
    "### Terminated Rate Visual"
   ]
  },
  {
   "cell_type": "code",
   "execution_count": 5,
   "id": "b1b87c59",
   "metadata": {},
   "outputs": [
    {
     "data": {
      "image/png": "[encoded data removed]",
      "text/plain": [
       "<Figure size 800x400 with 1 Axes>"
      ]
     },
     "metadata": {},
     "output_type": "display_data"
    }
   ],
   "source": [
    "import matplotlib.pyplot as plt\n",
    "import seaborn as sns\n",
    "\n",
    "plt.figure(figsize=(8,4))\n",
    "ax = sns.barplot(data=df_group, x='Store', \n",
    "                 y='termination_rate_%', \n",
    "                 hue='Store',\n",
    "                 order=df_group.sort_values('termination_rate_%', ascending=True)['Store'])\n",
    "\n",
    "# Rəqəmlər bar-da görsənsin\n",
    "for i in ax.containers:\n",
    "    ax.bar_label(i, fmt='%.1f%%', label_type='edge', fontsize=10, padding=2)\n",
    "\n",
    "# Axis xətləri görsənməsin    \n",
    "# plt.axis('off')\n",
    "ax.spines['left'].set_visible(False)   # y-axis xətti gizlə\n",
    "ax.yaxis.set_visible(False)            # y-axis ədədlər gizlə\n",
    "ax.spines['bottom'].set_visible(False) # x-axis xətti gizlə\n",
    "ax.spines['top'].set_visible(False)    # yuxrı xətti gizlə\n",
    "ax.spines['right'].set_visible(False)  # aşagı xətti gizlə\n",
    "\n",
    "    \n",
    "plt.title('Terminated Rate', fontsize=14)\n",
    "plt.xticks(rotation=45, fontsize=10)\n",
    "plt.tight_layout() #  yazılar üst-üstə düşməsin\n",
    "plt.show()"
   ]
  },
  {
   "cell_type": "markdown",
   "id": "5a811921",
   "metadata": {},
   "source": [
    "### Leave Reason"
   ]
  },
  {
   "cell_type": "code",
   "execution_count": 6,
   "id": "c4ef2757",
   "metadata": {},
   "outputs": [
    {
     "data": {
      "text/plain": [
       "Index(['EmployeeID', 'FullName', 'Gender', 'Age', 'BirthDate', 'Region',\n",
       "       'Store', 'StoreType', 'StoreSize', 'Department', 'Position',\n",
       "       'EmploymentType', 'Shift', 'Education', 'Salary', 'ApplicationDate',\n",
       "       'OfferDate', 'OfferAccepted', 'TimeToHireDays', 'HireDate',\n",
       "       'TerminationDate', 'Is Terminated', 'Tenure_before_exit', 'TenureDays',\n",
       "       'TenureYears', 'PerformanceScore', 'PerformanceRating', 'TrainingHours',\n",
       "       'AbsenceDays', 'LeaveReason', 'TerminationType', 'SourceOfHire'],\n",
       "      dtype='object')"
      ]
     },
     "execution_count": 6,
     "metadata": {},
     "output_type": "execute_result"
    }
   ],
   "source": [
    "df.columns"
   ]
  },
  {
   "cell_type": "code",
   "execution_count": 7,
   "id": "20c4447d",
   "metadata": {
    "scrolled": true
   },
   "outputs": [
    {
     "data": {
      "text/html": [
       "<div>\n",
       "<style scoped>\n",
       "    .dataframe tbody tr th:only-of-type {\n",
       "        vertical-align: middle;\n",
       "    }\n",
       "\n",
       "    .dataframe tbody tr th {\n",
       "        vertical-align: top;\n",
       "    }\n",
       "\n",
       "    .dataframe thead th {\n",
       "        text-align: right;\n",
       "    }\n",
       "</style>\n",
       "<table border=\"1\" class=\"dataframe\">\n",
       "  <thead>\n",
       "    <tr style=\"text-align: right;\">\n",
       "      <th></th>\n",
       "      <th>LeaveReason</th>\n",
       "      <th>EmployeeID</th>\n",
       "      <th>Per_of_total</th>\n",
       "    </tr>\n",
       "  </thead>\n",
       "  <tbody>\n",
       "    <tr>\n",
       "      <th>0</th>\n",
       "      <td>Personal Reasons</td>\n",
       "      <td>30</td>\n",
       "      <td>3.0</td>\n",
       "    </tr>\n",
       "    <tr>\n",
       "      <th>1</th>\n",
       "      <td>Resigned</td>\n",
       "      <td>170</td>\n",
       "      <td>17.0</td>\n",
       "    </tr>\n",
       "    <tr>\n",
       "      <th>2</th>\n",
       "      <td>Retired</td>\n",
       "      <td>10</td>\n",
       "      <td>1.0</td>\n",
       "    </tr>\n",
       "    <tr>\n",
       "      <th>3</th>\n",
       "      <td>Still Employed</td>\n",
       "      <td>740</td>\n",
       "      <td>74.0</td>\n",
       "    </tr>\n",
       "    <tr>\n",
       "      <th>4</th>\n",
       "      <td>Terminated</td>\n",
       "      <td>50</td>\n",
       "      <td>5.0</td>\n",
       "    </tr>\n",
       "  </tbody>\n",
       "</table>\n",
       "</div>"
      ],
      "text/plain": [
       "        LeaveReason  EmployeeID  Per_of_total\n",
       "0  Personal Reasons          30           3.0\n",
       "1          Resigned         170          17.0\n",
       "2           Retired          10           1.0\n",
       "3    Still Employed         740          74.0\n",
       "4        Terminated          50           5.0"
      ]
     },
     "execution_count": 7,
     "metadata": {},
     "output_type": "execute_result"
    }
   ],
   "source": [
    "df_group = df.groupby('LeaveReason').count()[['EmployeeID']].reset_index()\n",
    "\n",
    "# Ümumi Employees cəm\n",
    "total_Employees = df_group['EmployeeID'].sum()\n",
    "\n",
    "# Grand of total\n",
    "df_group['Per_of_total'] = df_group['EmployeeID'] / total_Employees*100\n",
    "\n",
    "df_group\n"
   ]
  },
  {
   "cell_type": "markdown",
   "id": "a36802ba",
   "metadata": {},
   "source": [
    "### Leave Reason Visual"
   ]
  },
  {
   "cell_type": "code",
   "execution_count": 8,
   "id": "91ccb521",
   "metadata": {},
   "outputs": [
    {
     "data": {
      "image/png": "[encoded data removed]",
      "text/plain": [
       "<Figure size 600x300 with 1 Axes>"
      ]
     },
     "metadata": {},
     "output_type": "display_data"
    }
   ],
   "source": [
    "import matplotlib.pyplot as plt\n",
    "import seaborn as sns\n",
    "\n",
    "plt.figure(figsize=(6,3))\n",
    "ax = sns.barplot(data=df_group, x='LeaveReason', \n",
    "                 y='Per_of_total', \n",
    "                 hue='LeaveReason',\n",
    "                 order=df_group.sort_values('Per_of_total', ascending=True)['LeaveReason'])\n",
    "\n",
    "# Rəqəmlər bar-da görsənsin\n",
    "for i in ax.containers:\n",
    "    ax.bar_label(i, fmt='%.1f%%', label_type='edge', fontsize=9, padding=2)\n",
    "\n",
    "# Axis xətləri görsənməsin    \n",
    "# plt.axis('off')\n",
    "ax.spines['left'].set_visible(False)   # y-axis xətti gizlə\n",
    "ax.yaxis.set_visible(False)            # y-axis ədədlər gizlə\n",
    "ax.spines['bottom'].set_visible(False) # x-axis xətti gizlə\n",
    "ax.spines['top'].set_visible(False)    # yuxrı xətti gizlə\n",
    "ax.spines['right'].set_visible(False)  # aşagı xətti gizlə\n",
    "\n",
    "    \n",
    "plt.title('Leave Reason', fontsize=14)\n",
    "plt.xticks(rotation=45, fontsize=8.5)\n",
    "plt.tight_layout() #  yazılar üst-üstə düşməsin\n",
    "plt.show()"
   ]
  },
  {
   "cell_type": "markdown",
   "id": "a694a761",
   "metadata": {},
   "source": [
    "### Time  Series Termination"
   ]
  },
  {
   "cell_type": "code",
   "execution_count": 9,
   "id": "2ba99074",
   "metadata": {},
   "outputs": [
    {
     "data": {
      "text/plain": [
       "Index(['EmployeeID', 'FullName', 'Gender', 'Age', 'BirthDate', 'Region',\n",
       "       'Store', 'StoreType', 'StoreSize', 'Department', 'Position',\n",
       "       'EmploymentType', 'Shift', 'Education', 'Salary', 'ApplicationDate',\n",
       "       'OfferDate', 'OfferAccepted', 'TimeToHireDays', 'HireDate',\n",
       "       'TerminationDate', 'Is Terminated', 'Tenure_before_exit', 'TenureDays',\n",
       "       'TenureYears', 'PerformanceScore', 'PerformanceRating', 'TrainingHours',\n",
       "       'AbsenceDays', 'LeaveReason', 'TerminationType', 'SourceOfHire'],\n",
       "      dtype='object')"
      ]
     },
     "execution_count": 9,
     "metadata": {},
     "output_type": "execute_result"
    }
   ],
   "source": [
    "df.columns"
   ]
  },
  {
   "cell_type": "code",
   "execution_count": 10,
   "id": "5325af08",
   "metadata": {
    "scrolled": false
   },
   "outputs": [
    {
     "data": {
      "text/html": [
       "<div>\n",
       "<style scoped>\n",
       "    .dataframe tbody tr th:only-of-type {\n",
       "        vertical-align: middle;\n",
       "    }\n",
       "\n",
       "    .dataframe tbody tr th {\n",
       "        vertical-align: top;\n",
       "    }\n",
       "\n",
       "    .dataframe thead th {\n",
       "        text-align: right;\n",
       "    }\n",
       "</style>\n",
       "<table border=\"1\" class=\"dataframe\">\n",
       "  <thead>\n",
       "    <tr style=\"text-align: right;\">\n",
       "      <th></th>\n",
       "      <th>TerminationDate</th>\n",
       "      <th>Employees_count</th>\n",
       "    </tr>\n",
       "  </thead>\n",
       "  <tbody>\n",
       "    <tr>\n",
       "      <th>4</th>\n",
       "      <td>January</td>\n",
       "      <td>20</td>\n",
       "    </tr>\n",
       "    <tr>\n",
       "      <th>3</th>\n",
       "      <td>February</td>\n",
       "      <td>10</td>\n",
       "    </tr>\n",
       "    <tr>\n",
       "      <th>7</th>\n",
       "      <td>March</td>\n",
       "      <td>10</td>\n",
       "    </tr>\n",
       "    <tr>\n",
       "      <th>0</th>\n",
       "      <td>April</td>\n",
       "      <td>20</td>\n",
       "    </tr>\n",
       "    <tr>\n",
       "      <th>8</th>\n",
       "      <td>May</td>\n",
       "      <td>30</td>\n",
       "    </tr>\n",
       "    <tr>\n",
       "      <th>6</th>\n",
       "      <td>June</td>\n",
       "      <td>40</td>\n",
       "    </tr>\n",
       "    <tr>\n",
       "      <th>5</th>\n",
       "      <td>July</td>\n",
       "      <td>30</td>\n",
       "    </tr>\n",
       "    <tr>\n",
       "      <th>1</th>\n",
       "      <td>August</td>\n",
       "      <td>20</td>\n",
       "    </tr>\n",
       "    <tr>\n",
       "      <th>11</th>\n",
       "      <td>September</td>\n",
       "      <td>20</td>\n",
       "    </tr>\n",
       "    <tr>\n",
       "      <th>10</th>\n",
       "      <td>October</td>\n",
       "      <td>20</td>\n",
       "    </tr>\n",
       "    <tr>\n",
       "      <th>9</th>\n",
       "      <td>November</td>\n",
       "      <td>30</td>\n",
       "    </tr>\n",
       "    <tr>\n",
       "      <th>2</th>\n",
       "      <td>December</td>\n",
       "      <td>10</td>\n",
       "    </tr>\n",
       "  </tbody>\n",
       "</table>\n",
       "</div>"
      ],
      "text/plain": [
       "   TerminationDate  Employees_count\n",
       "4          January               20\n",
       "3         February               10\n",
       "7            March               10\n",
       "0            April               20\n",
       "8              May               30\n",
       "6             June               40\n",
       "5             July               30\n",
       "1           August               20\n",
       "11       September               20\n",
       "10         October               20\n",
       "9         November               30\n",
       "2         December               10"
      ]
     },
     "execution_count": 10,
     "metadata": {},
     "output_type": "execute_result"
    }
   ],
   "source": [
    "import matplotlib.pyplot as plt\n",
    "import seaborn as sns\n",
    "\n",
    "# filterləmə işdən çıxanlar \n",
    "df_group = df[df['Is Terminated'] == 1]\n",
    "\n",
    "# pd.to_datetime(df.TerminationDate.dropna()).dt.month_name() - tarixdən ayın adını çixardır\n",
    "df_group = df.groupby(pd.to_datetime(df.TerminationDate.dropna(), errors='coerce').dt.month_name()).agg(\n",
    "    Employees_count=('EmployeeID', 'count')\n",
    ").reset_index()\n",
    "\n",
    "\n",
    "# Ayların təbii sırası\n",
    "month_order = [\n",
    "    'January', 'February', 'March', 'April', 'May', 'June',\n",
    "    'July', 'August', 'September', 'October', 'November', 'December'\n",
    "]\n",
    "\n",
    "# Ayları kateqoriyaya çevirib sıralamaq\n",
    "df_group['TerminationDate'] = pd.Categorical(df_group['TerminationDate'], categories=month_order, ordered=True)\n",
    "\n",
    "# Təbii ay sırasına görə sortlama\n",
    "df_group = df_group.sort_values('TerminationDate')\n",
    "\n",
    "\n",
    "df_group"
   ]
  },
  {
   "cell_type": "code",
   "execution_count": 11,
   "id": "fd3d3385",
   "metadata": {
    "scrolled": true
   },
   "outputs": [
    {
     "name": "stdout",
     "output_type": "stream",
     "text": [
      "<class 'pandas.core.frame.DataFrame'>\n",
      "Index: 12 entries, 4 to 2\n",
      "Data columns (total 2 columns):\n",
      " #   Column           Non-Null Count  Dtype   \n",
      "---  ------           --------------  -----   \n",
      " 0   TerminationDate  12 non-null     category\n",
      " 1   Employees_count  12 non-null     int64   \n",
      "dtypes: category(1), int64(1)\n",
      "memory usage: 600.0 bytes\n"
     ]
    }
   ],
   "source": [
    "df_group.info()"
   ]
  },
  {
   "cell_type": "markdown",
   "id": "a608c92b",
   "metadata": {},
   "source": [
    "### Time Series Termination Visaul"
   ]
  },
  {
   "cell_type": "code",
   "execution_count": 12,
   "id": "dbb37c3e",
   "metadata": {
    "scrolled": false
   },
   "outputs": [
    {
     "data": {
      "image/png": "[encoded data removed]",
      "text/plain": [
       "<Figure size 700x400 with 1 Axes>"
      ]
     },
     "metadata": {},
     "output_type": "display_data"
    }
   ],
   "source": [
    "import matplotlib.pyplot as plt\n",
    "import seaborn as sns\n",
    "\n",
    "fig, ax = plt.subplots(figsize=(7, 4))\n",
    "ax.plot(df_group['TerminationDate'], df_group['Employees_count'], marker='o', linestyle='-')\n",
    "\n",
    "# Hər nöqtənin üzərinə dəyəri yazmaq\n",
    "for x, y in zip(df_group['TerminationDate'], df_group['Employees_count']):\n",
    "    ax.text(x, y, f'{y:.1f}', fontsize=9, ha='center', va='bottom')\n",
    "\n",
    "# Axis xətləri görsənməsin    \n",
    "# plt.axis('off')\n",
    "ax.spines['left'].set_visible(False)   # y-axis xətti gizlə\n",
    "ax.yaxis.set_visible(False)            # y-axis ədədlər gizlə\n",
    "ax.spines['bottom'].set_visible(False) # x-axis xətti gizlə\n",
    "ax.spines['top'].set_visible(False)    # yuxrı xətti gizlə\n",
    "ax.spines['right'].set_visible(False)  # aşagı xətti gizlə\n",
    "\n",
    "    \n",
    "plt.title('Leave Reason', fontsize=14)\n",
    "plt.xticks(rotation=45, fontsize=8.5)\n",
    "plt.tight_layout() #  yazılar üst-üstə düşməsin\n",
    "plt.show()"
   ]
  },
  {
   "cell_type": "markdown",
   "id": "8b0df130",
   "metadata": {},
   "source": [
    "### Tenure Average Age"
   ]
  },
  {
   "cell_type": "code",
   "execution_count": 159,
   "id": "551b0936",
   "metadata": {},
   "outputs": [
    {
     "data": {
      "text/plain": [
       "Index(['EmployeeID', 'FullName', 'Gender', 'Age', 'BirthDate', 'Region',\n",
       "       'Store', 'StoreType', 'StoreSize', 'Department', 'Position',\n",
       "       'EmploymentType', 'Shift', 'Education', 'Salary', 'ApplicationDate',\n",
       "       'OfferDate', 'OfferAccepted', 'TimeToHireDays', 'HireDate',\n",
       "       'TerminationDate', 'Is Terminated', 'Tenure_before_exit', 'TenureDays',\n",
       "       'TenureYears', 'PerformanceScore', 'PerformanceRating', 'TrainingHours',\n",
       "       'AbsenceDays', 'LeaveReason', 'TerminationType', 'SourceOfHire'],\n",
       "      dtype='object')"
      ]
     },
     "execution_count": 159,
     "metadata": {},
     "output_type": "execute_result"
    }
   ],
   "source": [
    "df.columns"
   ]
  },
  {
   "cell_type": "code",
   "execution_count": 206,
   "id": "1726e584",
   "metadata": {
    "scrolled": false
   },
   "outputs": [
    {
     "data": {
      "text/html": [
       "<div>\n",
       "<style scoped>\n",
       "    .dataframe tbody tr th:only-of-type {\n",
       "        vertical-align: middle;\n",
       "    }\n",
       "\n",
       "    .dataframe tbody tr th {\n",
       "        vertical-align: top;\n",
       "    }\n",
       "\n",
       "    .dataframe thead th {\n",
       "        text-align: right;\n",
       "    }\n",
       "</style>\n",
       "<table border=\"1\" class=\"dataframe\">\n",
       "  <thead>\n",
       "    <tr style=\"text-align: right;\">\n",
       "      <th></th>\n",
       "      <th>month_group</th>\n",
       "      <th>Age</th>\n",
       "    </tr>\n",
       "  </thead>\n",
       "  <tbody>\n",
       "    <tr>\n",
       "      <th>0</th>\n",
       "      <td>0-6 ay</td>\n",
       "      <td>36.5</td>\n",
       "    </tr>\n",
       "    <tr>\n",
       "      <th>1</th>\n",
       "      <td>6-12 ay</td>\n",
       "      <td>36.0</td>\n",
       "    </tr>\n",
       "    <tr>\n",
       "      <th>2</th>\n",
       "      <td>12 aydan çox</td>\n",
       "      <td>43.2</td>\n",
       "    </tr>\n",
       "  </tbody>\n",
       "</table>\n",
       "</div>"
      ],
      "text/plain": [
       "    month_group   Age\n",
       "0        0-6 ay  36.5\n",
       "1       6-12 ay  36.0\n",
       "2  12 aydan çox  43.2"
      ]
     },
     "execution_count": 206,
     "metadata": {},
     "output_type": "execute_result"
    }
   ],
   "source": [
    "# filterləmə işdən çıxanlar \n",
    "df_group = df.copy()\n",
    "df_group = df_group.loc[df_group['Is Terminated'] == 1, :]\n",
    "\n",
    "# Ay intervallarının sərhədləri (bins)\n",
    "bins = [ -1, 6, 12, float('inf') ]\n",
    "\n",
    "# Bu intervallara uyğun kateqoriyalar (labels)\n",
    "labels = ['0-6 ay', '6-12 ay', '12 aydan çox']\n",
    "\n",
    "# pd.cut ilə bölmək və pd.Categorical yaratmaq\n",
    "df_group['month_group'] = pd.cut(df_group['Tenure_before_exit'], bins=bins, labels=labels)\n",
    "\n",
    "df_group = df_group.groupby(df_group['month_group'], observed=True).mean(numeric_only=True)[[\"Age\"]]\n",
    "\n",
    "\n",
    "df_group.reset_index(inplace=True)\n",
    "df_group"
   ]
  },
  {
   "cell_type": "markdown",
   "id": "6c863abd",
   "metadata": {},
   "source": [
    "### Tenure Average Age Visal"
   ]
  },
  {
   "cell_type": "code",
   "execution_count": 207,
   "id": "a2329e13",
   "metadata": {},
   "outputs": [
    {
     "data": {
      "image/png": "[encoded data removed]",
      "text/plain": [
       "<Figure size 800x400 with 1 Axes>"
      ]
     },
     "metadata": {},
     "output_type": "display_data"
    }
   ],
   "source": [
    "plt.figure(figsize=(8,4))\n",
    "plt.pie(\n",
    "    x=df_group['Age'],\n",
    "    labels=df_group['month_group'],\n",
    "    \n",
    "    # autopct parametri hər faiz dilimini ümumi yaşların cəmi ilə hesablayıb yaş ekvivalentini göstərir\n",
    "    autopct=lambda p: f'{p*sum(df_group[\"Age\"])/100:.1f} age'\n",
    ")\n",
    "\n",
    "plt.title('Tenure Average Age')\n",
    "plt.tight_layout()\n",
    "plt.show()"
   ]
  },
  {
   "cell_type": "markdown",
   "id": "f4d0ac4e",
   "metadata": {},
   "source": [
    "### Tenure Count before exit"
   ]
  },
  {
   "cell_type": "code",
   "execution_count": 208,
   "id": "dd6a7fd1",
   "metadata": {},
   "outputs": [
    {
     "data": {
      "text/plain": [
       "Index(['EmployeeID', 'FullName', 'Gender', 'Age', 'BirthDate', 'Region',\n",
       "       'Store', 'StoreType', 'StoreSize', 'Department', 'Position',\n",
       "       'EmploymentType', 'Shift', 'Education', 'Salary', 'ApplicationDate',\n",
       "       'OfferDate', 'OfferAccepted', 'TimeToHireDays', 'HireDate',\n",
       "       'TerminationDate', 'Is Terminated', 'Tenure_before_exit', 'TenureDays',\n",
       "       'TenureYears', 'PerformanceScore', 'PerformanceRating', 'TrainingHours',\n",
       "       'AbsenceDays', 'LeaveReason', 'TerminationType', 'SourceOfHire'],\n",
       "      dtype='object')"
      ]
     },
     "execution_count": 208,
     "metadata": {},
     "output_type": "execute_result"
    }
   ],
   "source": [
    "df.columns"
   ]
  },
  {
   "cell_type": "code",
   "execution_count": 209,
   "id": "c36f8551",
   "metadata": {},
   "outputs": [
    {
     "data": {
      "text/html": [
       "<div>\n",
       "<style scoped>\n",
       "    .dataframe tbody tr th:only-of-type {\n",
       "        vertical-align: middle;\n",
       "    }\n",
       "\n",
       "    .dataframe tbody tr th {\n",
       "        vertical-align: top;\n",
       "    }\n",
       "\n",
       "    .dataframe thead th {\n",
       "        text-align: right;\n",
       "    }\n",
       "</style>\n",
       "<table border=\"1\" class=\"dataframe\">\n",
       "  <thead>\n",
       "    <tr style=\"text-align: right;\">\n",
       "      <th></th>\n",
       "      <th>month_group</th>\n",
       "      <th>EmployeeID</th>\n",
       "    </tr>\n",
       "  </thead>\n",
       "  <tbody>\n",
       "    <tr>\n",
       "      <th>0</th>\n",
       "      <td>0-6 ay</td>\n",
       "      <td>40</td>\n",
       "    </tr>\n",
       "    <tr>\n",
       "      <th>1</th>\n",
       "      <td>6-12 ay</td>\n",
       "      <td>20</td>\n",
       "    </tr>\n",
       "    <tr>\n",
       "      <th>2</th>\n",
       "      <td>12 aydan çox</td>\n",
       "      <td>200</td>\n",
       "    </tr>\n",
       "  </tbody>\n",
       "</table>\n",
       "</div>"
      ],
      "text/plain": [
       "    month_group  EmployeeID\n",
       "0        0-6 ay          40\n",
       "1       6-12 ay          20\n",
       "2  12 aydan çox         200"
      ]
     },
     "execution_count": 209,
     "metadata": {},
     "output_type": "execute_result"
    }
   ],
   "source": [
    "# filterləmə işdən çıxanlar \n",
    "df_group = df.copy()\n",
    "df_group = df_group.loc[df_group['Is Terminated'] == 1, :]\n",
    "\n",
    "# Ay intervallarının sərhədləri (bins)\n",
    "bins = [ -1, 6, 12, float('inf') ]\n",
    "\n",
    "# Bu intervallara uyğun kateqoriyalar (labels)\n",
    "labels = ['0-6 ay', '6-12 ay', '12 aydan çox']\n",
    "\n",
    "# pd.cut ilə bölmək və pd.Categorical yaratmaq\n",
    "df_group['month_group'] = pd.cut(df_group['Tenure_before_exit'], bins=bins, labels=labels)\n",
    "\n",
    "df_group = df_group.groupby(df_group['month_group'], observed=True).count()[[\"EmployeeID\"]]\n",
    "\n",
    "\n",
    "df_group.reset_index(inplace=True)\n",
    "df_group"
   ]
  },
  {
   "cell_type": "code",
   "execution_count": 216,
   "id": "01dfe6f1",
   "metadata": {},
   "outputs": [
    {
     "data": {
      "application/vnd.plotly.v1+json": {
       "config": {
        "plotlyServerURL": "https://plot.ly"
       },
       "data": [
        {
         "domain": {
          "x": [
           0,
           1
          ],
          "y": [
           0,
           1
          ]
         },
         "hole": 0.3,
         "hovertemplate": "month_group=%{label}<br>EmployeeID=%{value}<extra></extra>",
         "labels": [
          "0-6 ay",
          "6-12 ay",
          "12 aydan çox"
         ],
         "legendgroup": "",
         "name": "",
         "showlegend": false,
         "textinfo": "percent+label",
         "textposition": "inside",
         "type": "pie",
         "values": [
          40,
          20,
          200
         ]
        }
       ],
       "layout": {
        "height": 400,
        "legend": {
         "tracegroupgap": 0
        },
        "margin": {
         "t": 60
        },
        "template": {
         "data": {
          "bar": [
           {
            "error_x": {
             "color": "#2a3f5f"
            },
            "error_y": {
             "color": "#2a3f5f"
            },
            "marker": {
             "line": {
              "color": "#E5ECF6",
              "width": 0.5
             },
             "pattern": {
              "fillmode": "overlay",
              "size": 10,
              "solidity": 0.2
             }
            },
            "type": "bar"
           }
          ],
          "barpolar": [
           {
            "marker": {
             "line": {
              "color": "#E5ECF6",
              "width": 0.5
             },
             "pattern": {
              "fillmode": "overlay",
              "size": 10,
              "solidity": 0.2
             }
            },
            "type": "barpolar"
           }
          ],
          "carpet": [
           {
            "aaxis": {
             "endlinecolor": "#2a3f5f",
             "gridcolor": "white",
             "linecolor": "white",
             "minorgridcolor": "white",
             "startlinecolor": "#2a3f5f"
            },
            "baxis": {
             "endlinecolor": "#2a3f5f",
             "gridcolor": "white",
             "linecolor": "white",
             "minorgridcolor": "white",
             "startlinecolor": "#2a3f5f"
            },
            "type": "carpet"
           }
          ],
          "choropleth": [
           {
            "colorbar": {
             "outlinewidth": 0,
             "ticks": ""
            },
            "type": "choropleth"
           }
          ],
          "contour": [
           {
            "colorbar": {
             "outlinewidth": 0,
             "ticks": ""
            },
            "colorscale": [
             [
              0,
              "#0d0887"
             ],
             [
              0.1111111111111111,
              "#46039f"
             ],
             [
              0.2222222222222222,
              "#7201a8"
             ],
             [
              0.3333333333333333,
              "#9c179e"
             ],
             [
              0.4444444444444444,
              "#bd3786"
             ],
             [
              0.5555555555555556,
              "#d8576b"
             ],
             [
              0.6666666666666666,
              "#ed7953"
             ],
             [
              0.7777777777777778,
              "#fb9f3a"
             ],
             [
              0.8888888888888888,
              "#fdca26"
             ],
             [
              1,
              "#f0f921"
             ]
            ],
            "type": "contour"
           }
          ],
          "contourcarpet": [
           {
            "colorbar": {
             "outlinewidth": 0,
             "ticks": ""
            },
            "type": "contourcarpet"
           }
          ],
          "heatmap": [
           {
            "colorbar": {
             "outlinewidth": 0,
             "ticks": ""
            },
            "colorscale": [
             [
              0,
              "#0d0887"
             ],
             [
              0.1111111111111111,
              "#46039f"
             ],
             [
              0.2222222222222222,
              "#7201a8"
             ],
             [
              0.3333333333333333,
              "#9c179e"
             ],
             [
              0.4444444444444444,
              "#bd3786"
             ],
             [
              0.5555555555555556,
              "#d8576b"
             ],
             [
              0.6666666666666666,
              "#ed7953"
             ],
             [
              0.7777777777777778,
              "#fb9f3a"
             ],
             [
              0.8888888888888888,
              "#fdca26"
             ],
             [
              1,
              "#f0f921"
             ]
            ],
            "type": "heatmap"
           }
          ],
          "heatmapgl": [
           {
            "colorbar": {
             "outlinewidth": 0,
             "ticks": ""
            },
            "colorscale": [
             [
              0,
              "#0d0887"
             ],
             [
              0.1111111111111111,
              "#46039f"
             ],
             [
              0.2222222222222222,
              "#7201a8"
             ],
             [
              0.3333333333333333,
              "#9c179e"
             ],
             [
              0.4444444444444444,
              "#bd3786"
             ],
             [
              0.5555555555555556,
              "#d8576b"
             ],
             [
              0.6666666666666666,
              "#ed7953"
             ],
             [
              0.7777777777777778,
              "#fb9f3a"
             ],
             [
              0.8888888888888888,
              "#fdca26"
             ],
             [
              1,
              "#f0f921"
             ]
            ],
            "type": "heatmapgl"
           }
          ],
          "histogram": [
           {
            "marker": {
             "pattern": {
              "fillmode": "overlay",
              "size": 10,
              "solidity": 0.2
             }
            },
            "type": "histogram"
           }
          ],
          "histogram2d": [
           {
            "colorbar": {
             "outlinewidth": 0,
             "ticks": ""
            },
            "colorscale": [
             [
              0,
              "#0d0887"
             ],
             [
              0.1111111111111111,
              "#46039f"
             ],
             [
              0.2222222222222222,
              "#7201a8"
             ],
             [
              0.3333333333333333,
              "#9c179e"
             ],
             [
              0.4444444444444444,
              "#bd3786"
             ],
             [
              0.5555555555555556,
              "#d8576b"
             ],
             [
              0.6666666666666666,
              "#ed7953"
             ],
             [
              0.7777777777777778,
              "#fb9f3a"
             ],
             [
              0.8888888888888888,
              "#fdca26"
             ],
             [
              1,
              "#f0f921"
             ]
            ],
            "type": "histogram2d"
           }
          ],
          "histogram2dcontour": [
           {
            "colorbar": {
             "outlinewidth": 0,
             "ticks": ""
            },
            "colorscale": [
             [
              0,
              "#0d0887"
             ],
             [
              0.1111111111111111,
              "#46039f"
             ],
             [
              0.2222222222222222,
              "#7201a8"
             ],
             [
              0.3333333333333333,
              "#9c179e"
             ],
             [
              0.4444444444444444,
              "#bd3786"
             ],
             [
              0.5555555555555556,
              "#d8576b"
             ],
             [
              0.6666666666666666,
              "#ed7953"
             ],
             [
              0.7777777777777778,
              "#fb9f3a"
             ],
             [
              0.8888888888888888,
              "#fdca26"
             ],
             [
              1,
              "#f0f921"
             ]
            ],
            "type": "histogram2dcontour"
           }
          ],
          "mesh3d": [
           {
            "colorbar": {
             "outlinewidth": 0,
             "ticks": ""
            },
            "type": "mesh3d"
           }
          ],
          "parcoords": [
           {
            "line": {
             "colorbar": {
              "outlinewidth": 0,
              "ticks": ""
             }
            },
            "type": "parcoords"
           }
          ],
          "pie": [
           {
            "automargin": true,
            "type": "pie"
           }
          ],
          "scatter": [
           {
            "fillpattern": {
             "fillmode": "overlay",
             "size": 10,
             "solidity": 0.2
            },
            "type": "scatter"
           }
          ],
          "scatter3d": [
           {
            "line": {
             "colorbar": {
              "outlinewidth": 0,
              "ticks": ""
             }
            },
            "marker": {
             "colorbar": {
              "outlinewidth": 0,
              "ticks": ""
             }
            },
            "type": "scatter3d"
           }
          ],
          "scattercarpet": [
           {
            "marker": {
             "colorbar": {
              "outlinewidth": 0,
              "ticks": ""
             }
            },
            "type": "scattercarpet"
           }
          ],
          "scattergeo": [
           {
            "marker": {
             "colorbar": {
              "outlinewidth": 0,
              "ticks": ""
             }
            },
            "type": "scattergeo"
           }
          ],
          "scattergl": [
           {
            "marker": {
             "colorbar": {
              "outlinewidth": 0,
              "ticks": ""
             }
            },
            "type": "scattergl"
           }
          ],
          "scattermapbox": [
           {
            "marker": {
             "colorbar": {
              "outlinewidth": 0,
              "ticks": ""
             }
            },
            "type": "scattermapbox"
           }
          ],
          "scatterpolar": [
           {
            "marker": {
             "colorbar": {
              "outlinewidth": 0,
              "ticks": ""
             }
            },
            "type": "scatterpolar"
           }
          ],
          "scatterpolargl": [
           {
            "marker": {
             "colorbar": {
              "outlinewidth": 0,
              "ticks": ""
             }
            },
            "type": "scatterpolargl"
           }
          ],
          "scatterternary": [
           {
            "marker": {
             "colorbar": {
              "outlinewidth": 0,
              "ticks": ""
             }
            },
            "type": "scatterternary"
           }
          ],
          "surface": [
           {
            "colorbar": {
             "outlinewidth": 0,
             "ticks": ""
            },
            "colorscale": [
             [
              0,
              "#0d0887"
             ],
             [
              0.1111111111111111,
              "#46039f"
             ],
             [
              0.2222222222222222,
              "#7201a8"
             ],
             [
              0.3333333333333333,
              "#9c179e"
             ],
             [
              0.4444444444444444,
              "#bd3786"
             ],
             [
              0.5555555555555556,
              "#d8576b"
             ],
             [
              0.6666666666666666,
              "#ed7953"
             ],
             [
              0.7777777777777778,
              "#fb9f3a"
             ],
             [
              0.8888888888888888,
              "#fdca26"
             ],
             [
              1,
              "#f0f921"
             ]
            ],
            "type": "surface"
           }
          ],
          "table": [
           {
            "cells": {
             "fill": {
              "color": "#EBF0F8"
             },
             "line": {
              "color": "white"
             }
            },
            "header": {
             "fill": {
              "color": "#C8D4E3"
             },
             "line": {
              "color": "white"
             }
            },
            "type": "table"
           }
          ]
         },
         "layout": {
          "annotationdefaults": {
           "arrowcolor": "#2a3f5f",
           "arrowhead": 0,
           "arrowwidth": 1
          },
          "autotypenumbers": "strict",
          "coloraxis": {
           "colorbar": {
            "outlinewidth": 0,
            "ticks": ""
           }
          },
          "colorscale": {
           "diverging": [
            [
             0,
             "#8e0152"
            ],
            [
             0.1,
             "#c51b7d"
            ],
            [
             0.2,
             "#de77ae"
            ],
            [
             0.3,
             "#f1b6da"
            ],
            [
             0.4,
             "#fde0ef"
            ],
            [
             0.5,
             "#f7f7f7"
            ],
            [
             0.6,
             "#e6f5d0"
            ],
            [
             0.7,
             "#b8e186"
            ],
            [
             0.8,
             "#7fbc41"
            ],
            [
             0.9,
             "#4d9221"
            ],
            [
             1,
             "#276419"
            ]
           ],
           "sequential": [
            [
             0,
             "#0d0887"
            ],
            [
             0.1111111111111111,
             "#46039f"
            ],
            [
             0.2222222222222222,
             "#7201a8"
            ],
            [
             0.3333333333333333,
             "#9c179e"
            ],
            [
             0.4444444444444444,
             "#bd3786"
            ],
            [
             0.5555555555555556,
             "#d8576b"
            ],
            [
             0.6666666666666666,
             "#ed7953"
            ],
            [
             0.7777777777777778,
             "#fb9f3a"
            ],
            [
             0.8888888888888888,
             "#fdca26"
            ],
            [
             1,
             "#f0f921"
            ]
           ],
           "sequentialminus": [
            [
             0,
             "#0d0887"
            ],
            [
             0.1111111111111111,
             "#46039f"
            ],
            [
             0.2222222222222222,
             "#7201a8"
            ],
            [
             0.3333333333333333,
             "#9c179e"
            ],
            [
             0.4444444444444444,
             "#bd3786"
            ],
            [
             0.5555555555555556,
             "#d8576b"
            ],
            [
             0.6666666666666666,
             "#ed7953"
            ],
            [
             0.7777777777777778,
             "#fb9f3a"
            ],
            [
             0.8888888888888888,
             "#fdca26"
            ],
            [
             1,
             "#f0f921"
            ]
           ]
          },
          "colorway": [
           "#636efa",
           "#EF553B",
           "#00cc96",
           "#ab63fa",
           "#FFA15A",
           "#19d3f3",
           "#FF6692",
           "#B6E880",
           "#FF97FF",
           "#FECB52"
          ],
          "font": {
           "color": "#2a3f5f"
          },
          "geo": {
           "bgcolor": "white",
           "lakecolor": "white",
           "landcolor": "#E5ECF6",
           "showlakes": true,
           "showland": true,
           "subunitcolor": "white"
          },
          "hoverlabel": {
           "align": "left"
          },
          "hovermode": "closest",
          "mapbox": {
           "style": "light"
          },
          "paper_bgcolor": "white",
          "plot_bgcolor": "#E5ECF6",
          "polar": {
           "angularaxis": {
            "gridcolor": "white",
            "linecolor": "white",
            "ticks": ""
           },
           "bgcolor": "#E5ECF6",
           "radialaxis": {
            "gridcolor": "white",
            "linecolor": "white",
            "ticks": ""
           }
          },
          "scene": {
           "xaxis": {
            "backgroundcolor": "#E5ECF6",
            "gridcolor": "white",
            "gridwidth": 2,
            "linecolor": "white",
            "showbackground": true,
            "ticks": "",
            "zerolinecolor": "white"
           },
           "yaxis": {
            "backgroundcolor": "#E5ECF6",
            "gridcolor": "white",
            "gridwidth": 2,
            "linecolor": "white",
            "showbackground": true,
            "ticks": "",
            "zerolinecolor": "white"
           },
           "zaxis": {
            "backgroundcolor": "#E5ECF6",
            "gridcolor": "white",
            "gridwidth": 2,
            "linecolor": "white",
            "showbackground": true,
            "ticks": "",
            "zerolinecolor": "white"
           }
          },
          "shapedefaults": {
           "line": {
            "color": "#2a3f5f"
           }
          },
          "ternary": {
           "aaxis": {
            "gridcolor": "white",
            "linecolor": "white",
            "ticks": ""
           },
           "baxis": {
            "gridcolor": "white",
            "linecolor": "white",
            "ticks": ""
           },
           "bgcolor": "#E5ECF6",
           "caxis": {
            "gridcolor": "white",
            "linecolor": "white",
            "ticks": ""
           }
          },
          "title": {
           "x": 0.05
          },
          "xaxis": {
           "automargin": true,
           "gridcolor": "white",
           "linecolor": "white",
           "ticks": "",
           "title": {
            "standoff": 15
           },
           "zerolinecolor": "white",
           "zerolinewidth": 2
          },
          "yaxis": {
           "automargin": true,
           "gridcolor": "white",
           "linecolor": "white",
           "ticks": "",
           "title": {
            "standoff": 15
           },
           "zerolinecolor": "white",
           "zerolinewidth": 2
          }
         }
        },
        "title": {
         "text": "Tenure Count before exit",
         "x": 0.3,
         "xanchor": "left",
         "y": 0.95,
         "yanchor": "top"
        },
        "width": 500
       }
      },
      "text/html": [
       "<div>                            <div id=\"8a2f923a-4fe0-42b5-87e0-23e5c5ea4604\" class=\"plotly-graph-div\" style=\"height:400px; width:500px;\"></div>            <script type=\"text/javascript\">                require([\"plotly\"], function(Plotly) {                    window.PLOTLYENV=window.PLOTLYENV || {};                                    if (document.getElementById(\"8a2f923a-4fe0-42b5-87e0-23e5c5ea4604\")) {                    Plotly.newPlot(                        \"8a2f923a-4fe0-42b5-87e0-23e5c5ea4604\",                        [{\"domain\":{\"x\":[0.0,1.0],\"y\":[0.0,1.0]},\"hole\":0.3,\"hovertemplate\":\"month_group=%{label}\\u003cbr\\u003eEmployeeID=%{value}\\u003cextra\\u003e\\u003c\\u002fextra\\u003e\",\"labels\":[\"0-6 ay\",\"6-12 ay\",\"12 aydan çox\"],\"legendgroup\":\"\",\"name\":\"\",\"showlegend\":false,\"values\":[40,20,200],\"type\":\"pie\",\"textinfo\":\"percent+label\",\"textposition\":\"inside\"}],                        {\"template\":{\"data\":{\"histogram2dcontour\":[{\"type\":\"histogram2dcontour\",\"colorbar\":{\"outlinewidth\":0,\"ticks\":\"\"},\"colorscale\":[[0.0,\"#0d0887\"],[0.1111111111111111,\"#46039f\"],[0.2222222222222222,\"#7201a8\"],[0.3333333333333333,\"#9c179e\"],[0.4444444444444444,\"#bd3786\"],[0.5555555555555556,\"#d8576b\"],[0.6666666666666666,\"#ed7953\"],[0.7777777777777778,\"#fb9f3a\"],[0.8888888888888888,\"#fdca26\"],[1.0,\"#f0f921\"]]}],\"choropleth\":[{\"type\":\"choropleth\",\"colorbar\":{\"outlinewidth\":0,\"ticks\":\"\"}}],\"histogram2d\":[{\"type\":\"histogram2d\",\"colorbar\":{\"outlinewidth\":0,\"ticks\":\"\"},\"colorscale\":[[0.0,\"#0d0887\"],[0.1111111111111111,\"#46039f\"],[0.2222222222222222,\"#7201a8\"],[0.3333333333333333,\"#9c179e\"],[0.4444444444444444,\"#bd3786\"],[0.5555555555555556,\"#d8576b\"],[0.6666666666666666,\"#ed7953\"],[0.7777777777777778,\"#fb9f3a\"],[0.8888888888888888,\"#fdca26\"],[1.0,\"#f0f921\"]]}],\"heatmap\":[{\"type\":\"heatmap\",\"colorbar\":{\"outlinewidth\":0,\"ticks\":\"\"},\"colorscale\":[[0.0,\"#0d0887\"],[0.1111111111111111,\"#46039f\"],[0.2222222222222222,\"#7201a8\"],[0.3333333333333333,\"#9c179e\"],[0.4444444444444444,\"#bd3786\"],[0.5555555555555556,\"#d8576b\"],[0.6666666666666666,\"#ed7953\"],[0.7777777777777778,\"#fb9f3a\"],[0.8888888888888888,\"#fdca26\"],[1.0,\"#f0f921\"]]}],\"heatmapgl\":[{\"type\":\"heatmapgl\",\"colorbar\":{\"outlinewidth\":0,\"ticks\":\"\"},\"colorscale\":[[0.0,\"#0d0887\"],[0.1111111111111111,\"#46039f\"],[0.2222222222222222,\"#7201a8\"],[0.3333333333333333,\"#9c179e\"],[0.4444444444444444,\"#bd3786\"],[0.5555555555555556,\"#d8576b\"],[0.6666666666666666,\"#ed7953\"],[0.7777777777777778,\"#fb9f3a\"],[0.8888888888888888,\"#fdca26\"],[1.0,\"#f0f921\"]]}],\"contourcarpet\":[{\"type\":\"contourcarpet\",\"colorbar\":{\"outlinewidth\":0,\"ticks\":\"\"}}],\"contour\":[{\"type\":\"contour\",\"colorbar\":{\"outlinewidth\":0,\"ticks\":\"\"},\"colorscale\":[[0.0,\"#0d0887\"],[0.1111111111111111,\"#46039f\"],[0.2222222222222222,\"#7201a8\"],[0.3333333333333333,\"#9c179e\"],[0.4444444444444444,\"#bd3786\"],[0.5555555555555556,\"#d8576b\"],[0.6666666666666666,\"#ed7953\"],[0.7777777777777778,\"#fb9f3a\"],[0.8888888888888888,\"#fdca26\"],[1.0,\"#f0f921\"]]}],\"surface\":[{\"type\":\"surface\",\"colorbar\":{\"outlinewidth\":0,\"ticks\":\"\"},\"colorscale\":[[0.0,\"#0d0887\"],[0.1111111111111111,\"#46039f\"],[0.2222222222222222,\"#7201a8\"],[0.3333333333333333,\"#9c179e\"],[0.4444444444444444,\"#bd3786\"],[0.5555555555555556,\"#d8576b\"],[0.6666666666666666,\"#ed7953\"],[0.7777777777777778,\"#fb9f3a\"],[0.8888888888888888,\"#fdca26\"],[1.0,\"#f0f921\"]]}],\"mesh3d\":[{\"type\":\"mesh3d\",\"colorbar\":{\"outlinewidth\":0,\"ticks\":\"\"}}],\"scatter\":[{\"fillpattern\":{\"fillmode\":\"overlay\",\"size\":10,\"solidity\":0.2},\"type\":\"scatter\"}],\"parcoords\":[{\"type\":\"parcoords\",\"line\":{\"colorbar\":{\"outlinewidth\":0,\"ticks\":\"\"}}}],\"scatterpolargl\":[{\"type\":\"scatterpolargl\",\"marker\":{\"colorbar\":{\"outlinewidth\":0,\"ticks\":\"\"}}}],\"bar\":[{\"error_x\":{\"color\":\"#2a3f5f\"},\"error_y\":{\"color\":\"#2a3f5f\"},\"marker\":{\"line\":{\"color\":\"#E5ECF6\",\"width\":0.5},\"pattern\":{\"fillmode\":\"overlay\",\"size\":10,\"solidity\":0.2}},\"type\":\"bar\"}],\"scattergeo\":[{\"type\":\"scattergeo\",\"marker\":{\"colorbar\":{\"outlinewidth\":0,\"ticks\":\"\"}}}],\"scatterpolar\":[{\"type\":\"scatterpolar\",\"marker\":{\"colorbar\":{\"outlinewidth\":0,\"ticks\":\"\"}}}],\"histogram\":[{\"marker\":{\"pattern\":{\"fillmode\":\"overlay\",\"size\":10,\"solidity\":0.2}},\"type\":\"histogram\"}],\"scattergl\":[{\"type\":\"scattergl\",\"marker\":{\"colorbar\":{\"outlinewidth\":0,\"ticks\":\"\"}}}],\"scatter3d\":[{\"type\":\"scatter3d\",\"line\":{\"colorbar\":{\"outlinewidth\":0,\"ticks\":\"\"}},\"marker\":{\"colorbar\":{\"outlinewidth\":0,\"ticks\":\"\"}}}],\"scattermapbox\":[{\"type\":\"scattermapbox\",\"marker\":{\"colorbar\":{\"outlinewidth\":0,\"ticks\":\"\"}}}],\"scatterternary\":[{\"type\":\"scatterternary\",\"marker\":{\"colorbar\":{\"outlinewidth\":0,\"ticks\":\"\"}}}],\"scattercarpet\":[{\"type\":\"scattercarpet\",\"marker\":{\"colorbar\":{\"outlinewidth\":0,\"ticks\":\"\"}}}],\"carpet\":[{\"aaxis\":{\"endlinecolor\":\"#2a3f5f\",\"gridcolor\":\"white\",\"linecolor\":\"white\",\"minorgridcolor\":\"white\",\"startlinecolor\":\"#2a3f5f\"},\"baxis\":{\"endlinecolor\":\"#2a3f5f\",\"gridcolor\":\"white\",\"linecolor\":\"white\",\"minorgridcolor\":\"white\",\"startlinecolor\":\"#2a3f5f\"},\"type\":\"carpet\"}],\"table\":[{\"cells\":{\"fill\":{\"color\":\"#EBF0F8\"},\"line\":{\"color\":\"white\"}},\"header\":{\"fill\":{\"color\":\"#C8D4E3\"},\"line\":{\"color\":\"white\"}},\"type\":\"table\"}],\"barpolar\":[{\"marker\":{\"line\":{\"color\":\"#E5ECF6\",\"width\":0.5},\"pattern\":{\"fillmode\":\"overlay\",\"size\":10,\"solidity\":0.2}},\"type\":\"barpolar\"}],\"pie\":[{\"automargin\":true,\"type\":\"pie\"}]},\"layout\":{\"autotypenumbers\":\"strict\",\"colorway\":[\"#636efa\",\"#EF553B\",\"#00cc96\",\"#ab63fa\",\"#FFA15A\",\"#19d3f3\",\"#FF6692\",\"#B6E880\",\"#FF97FF\",\"#FECB52\"],\"font\":{\"color\":\"#2a3f5f\"},\"hovermode\":\"closest\",\"hoverlabel\":{\"align\":\"left\"},\"paper_bgcolor\":\"white\",\"plot_bgcolor\":\"#E5ECF6\",\"polar\":{\"bgcolor\":\"#E5ECF6\",\"angularaxis\":{\"gridcolor\":\"white\",\"linecolor\":\"white\",\"ticks\":\"\"},\"radialaxis\":{\"gridcolor\":\"white\",\"linecolor\":\"white\",\"ticks\":\"\"}},\"ternary\":{\"bgcolor\":\"#E5ECF6\",\"aaxis\":{\"gridcolor\":\"white\",\"linecolor\":\"white\",\"ticks\":\"\"},\"baxis\":{\"gridcolor\":\"white\",\"linecolor\":\"white\",\"ticks\":\"\"},\"caxis\":{\"gridcolor\":\"white\",\"linecolor\":\"white\",\"ticks\":\"\"}},\"coloraxis\":{\"colorbar\":{\"outlinewidth\":0,\"ticks\":\"\"}},\"colorscale\":{\"sequential\":[[0.0,\"#0d0887\"],[0.1111111111111111,\"#46039f\"],[0.2222222222222222,\"#7201a8\"],[0.3333333333333333,\"#9c179e\"],[0.4444444444444444,\"#bd3786\"],[0.5555555555555556,\"#d8576b\"],[0.6666666666666666,\"#ed7953\"],[0.7777777777777778,\"#fb9f3a\"],[0.8888888888888888,\"#fdca26\"],[1.0,\"#f0f921\"]],\"sequentialminus\":[[0.0,\"#0d0887\"],[0.1111111111111111,\"#46039f\"],[0.2222222222222222,\"#7201a8\"],[0.3333333333333333,\"#9c179e\"],[0.4444444444444444,\"#bd3786\"],[0.5555555555555556,\"#d8576b\"],[0.6666666666666666,\"#ed7953\"],[0.7777777777777778,\"#fb9f3a\"],[0.8888888888888888,\"#fdca26\"],[1.0,\"#f0f921\"]],\"diverging\":[[0,\"#8e0152\"],[0.1,\"#c51b7d\"],[0.2,\"#de77ae\"],[0.3,\"#f1b6da\"],[0.4,\"#fde0ef\"],[0.5,\"#f7f7f7\"],[0.6,\"#e6f5d0\"],[0.7,\"#b8e186\"],[0.8,\"#7fbc41\"],[0.9,\"#4d9221\"],[1,\"#276419\"]]},\"xaxis\":{\"gridcolor\":\"white\",\"linecolor\":\"white\",\"ticks\":\"\",\"title\":{\"standoff\":15},\"zerolinecolor\":\"white\",\"automargin\":true,\"zerolinewidth\":2},\"yaxis\":{\"gridcolor\":\"white\",\"linecolor\":\"white\",\"ticks\":\"\",\"title\":{\"standoff\":15},\"zerolinecolor\":\"white\",\"automargin\":true,\"zerolinewidth\":2},\"scene\":{\"xaxis\":{\"backgroundcolor\":\"#E5ECF6\",\"gridcolor\":\"white\",\"linecolor\":\"white\",\"showbackground\":true,\"ticks\":\"\",\"zerolinecolor\":\"white\",\"gridwidth\":2},\"yaxis\":{\"backgroundcolor\":\"#E5ECF6\",\"gridcolor\":\"white\",\"linecolor\":\"white\",\"showbackground\":true,\"ticks\":\"\",\"zerolinecolor\":\"white\",\"gridwidth\":2},\"zaxis\":{\"backgroundcolor\":\"#E5ECF6\",\"gridcolor\":\"white\",\"linecolor\":\"white\",\"showbackground\":true,\"ticks\":\"\",\"zerolinecolor\":\"white\",\"gridwidth\":2}},\"shapedefaults\":{\"line\":{\"color\":\"#2a3f5f\"}},\"annotationdefaults\":{\"arrowcolor\":\"#2a3f5f\",\"arrowhead\":0,\"arrowwidth\":1},\"geo\":{\"bgcolor\":\"white\",\"landcolor\":\"#E5ECF6\",\"subunitcolor\":\"white\",\"showland\":true,\"showlakes\":true,\"lakecolor\":\"white\"},\"title\":{\"x\":0.05},\"mapbox\":{\"style\":\"light\"}}},\"legend\":{\"tracegroupgap\":0},\"margin\":{\"t\":60},\"height\":400,\"width\":500,\"title\":{\"text\":\"Tenure Count before exit\",\"x\":0.3,\"xanchor\":\"left\",\"y\":0.95,\"yanchor\":\"top\"}},                        {\"responsive\": true}                    ).then(function(){\n",
       "                            \n",
       "var gd = document.getElementById('8a2f923a-4fe0-42b5-87e0-23e5c5ea4604');\n",
       "var x = new MutationObserver(function (mutations, observer) {{\n",
       "        var display = window.getComputedStyle(gd).display;\n",
       "        if (!display || display === 'none') {{\n",
       "            console.log([gd, 'removed!']);\n",
       "            Plotly.purge(gd);\n",
       "            observer.disconnect();\n",
       "        }}\n",
       "}});\n",
       "\n",
       "// Listen for the removal of the full notebook cells\n",
       "var notebookContainer = gd.closest('#notebook-container');\n",
       "if (notebookContainer) {{\n",
       "    x.observe(notebookContainer, {childList: true});\n",
       "}}\n",
       "\n",
       "// Listen for the clearing of the current output cell\n",
       "var outputEl = gd.closest('.output');\n",
       "if (outputEl) {{\n",
       "    x.observe(outputEl, {childList: true});\n",
       "}}\n",
       "\n",
       "                        })                };                });            </script>        </div>"
      ]
     },
     "metadata": {},
     "output_type": "display_data"
    }
   ],
   "source": [
    "import plotly.express as px\n",
    "\n",
    "fig = px.pie(\n",
    "    data_frame=df_group,\n",
    "    values='EmployeeID',\n",
    "    names='month_group',\n",
    "    hole=0.3,\n",
    "    width=500,\n",
    "    height=400\n",
    ")\n",
    "\n",
    "fig.update_traces(\n",
    "    textposition='inside',\n",
    "    textinfo='percent+label',\n",
    "    showlegend=False\n",
    ")\n",
    "\n",
    "fig.update_layout(\n",
    "    title=\"Tenure Count before exit\"\n",
    ")\n",
    "\n",
    "fig.update_layout(\n",
    "    title={\n",
    "        'text': \"Tenure Count before exit\",\n",
    "        'x': 0.3,            # 0 — solda, 0.5 — mərkəzdə, 1 — sağda\n",
    "        'xanchor': 'left', # başlıq sol tərəfdən yapışdırılır\n",
    "        'y': 0.95,         # başlığın y koordinatı (yuxarıdan məsafə)\n",
    "        'yanchor': 'top'\n",
    "    }\n",
    ")\n",
    "\n",
    "\n",
    "fig.show()"
   ]
  },
  {
   "cell_type": "code",
   "execution_count": null,
   "id": "466cc474",
   "metadata": {},
   "outputs": [],
   "source": []
  }
 ],
 "metadata": {
  "kernelspec": {
   "display_name": "Python 3 (ipykernel)",
   "language": "python",
   "name": "python3"
  },
  "language_info": {
   "codemirror_mode": {
    "name": "ipython",
    "version": 3
   },
   "file_extension": ".py",
   "mimetype": "text/x-python",
   "name": "python",
   "nbconvert_exporter": "python",
   "pygments_lexer": "ipython3",
   "version": "3.11.5"
  }
 },
 "nbformat": 4,
 "nbformat_minor": 5
}
